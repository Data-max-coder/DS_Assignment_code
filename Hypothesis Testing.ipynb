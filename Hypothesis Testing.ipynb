{
 "cells": [
  {
   "cell_type": "code",
   "execution_count": null,
   "id": "ef62ba89",
   "metadata": {},
   "outputs": [],
   "source": [
    "##  HYPOTHESIS TESTING  ##"
   ]
  },
  {
   "cell_type": "code",
   "execution_count": 2,
   "id": "2724d129",
   "metadata": {},
   "outputs": [
    {
     "name": "stdout",
     "output_type": "stream",
     "text": [
      "Null Hypothesis: The mean weekly operating cost is Rs. 4000\n",
      "Alternative Hypothesis: The mean weekly operating cost is greater than Rs. 4000\n",
      "Test Statistic (t): -38.0\n",
      "Critical Value (Z): 1.6448536269514722\n",
      "Decision: Fail to Reject Null Hypothesis\n",
      "\n",
      "Conclusion:\n",
      "Based on the limited sample, we cannot reject the theoretical model. Further investigation might be needed.\n"
     ]
    }
   ],
   "source": [
    "import scipy.stats as stats\n",
    "import numpy as np\n",
    "# Fixed Values\n",
    "theoretical_mean_cost = 1000 + 5 * 600  # Cost for 600 units (Rs.)\n",
    "sample_mean_cost = 3050  # Sample mean (Rs.)\n",
    "sample_size = 25\n",
    "std_dev = 5 * 25  # Standard deviation (Rs.)\n",
    "alpha = 0.05  # Significance level\n",
    "\n",
    "# Step 1: Hypotheses Statements\n",
    "null_hypothesis = \"The mean weekly operating cost is Rs. \" + str(theoretical_mean_cost)\n",
    "alternative_hypothesis = \"The mean weekly operating cost is greater than Rs. \" + str(theoretical_mean_cost)\n",
    "\n",
    "# Step 2: Calculate Test Statistic (t-statistic)\n",
    "t_statistic = (sample_mean_cost - theoretical_mean_cost) / (std_dev / np.sqrt(sample_size))\n",
    "\n",
    "# Step 3: Determine Critical Value\n",
    "critical_value = stats.norm.ppf(1 - alpha)  # One-tailed test for higher cost\n",
    "\n",
    "# Step 4: Make a Decision\n",
    "print(\"Null Hypothesis:\", null_hypothesis)\n",
    "print(\"Alternative Hypothesis:\", alternative_hypothesis)\n",
    "print(\"Test Statistic (t):\", t_statistic)\n",
    "print(\"Critical Value (Z):\", critical_value)\n",
    "\n",
    "if t_statistic > critical_value:\n",
    "  print(\"Decision: Reject Null Hypothesis\")\n",
    "else:\n",
    "  print(\"Decision: Fail to Reject Null Hypothesis\")\n",
    "\n",
    "# Step 5: Conclusion\n",
    "print(\"\\nConclusion:\")\n",
    "if t_statistic > critical_value:\n",
    "  print(\"There is strong evidence to support the restaurant owners' claim that the weekly operating costs are higher than the model suggests.\")\n",
    "else:\n",
    "  print(\"Based on the limited sample, we cannot reject the theoretical model. Further investigation might be needed.\")"
   ]
  },
  {
   "cell_type": "code",
   "execution_count": null,
   "id": "6b6aa95c",
   "metadata": {},
   "outputs": [],
   "source": []
  },
  {
   "cell_type": "code",
   "execution_count": null,
   "id": "3e04d217",
   "metadata": {},
   "outputs": [],
   "source": []
  }
 ],
 "metadata": {
  "kernelspec": {
   "display_name": "Python 3 (ipykernel)",
   "language": "python",
   "name": "python3"
  },
  "language_info": {
   "codemirror_mode": {
    "name": "ipython",
    "version": 3
   },
   "file_extension": ".py",
   "mimetype": "text/x-python",
   "name": "python",
   "nbconvert_exporter": "python",
   "pygments_lexer": "ipython3",
   "version": "3.11.5"
  }
 },
 "nbformat": 4,
 "nbformat_minor": 5
}
