{
 "cells": [
  {
   "cell_type": "code",
   "execution_count": null,
   "id": "9c6f6e8e",
   "metadata": {},
   "outputs": [],
   "source": [
    "#Exercise 1: Prime Numbers"
   ]
  },
  {
   "cell_type": "code",
   "execution_count": null,
   "id": "4a96a627",
   "metadata": {},
   "outputs": [],
   "source": [
    "#The idea to solve this problem is to iterate through all the numbers starting from 2 to (N/2) using a for loop and for every number check if it divides N.\n",
    "#If we find any number that divides, we return false. If we did not find any number between 2 and N/2 which divides N then it means that N is prime and we will return True."
   ]
  },
  {
   "cell_type": "code",
   "execution_count": 1,
   "id": "172dd401",
   "metadata": {},
   "outputs": [
    {
     "name": "stdout",
     "output_type": "stream",
     "text": [
      "15 is not a prime number\n"
     ]
    }
   ],
   "source": [
    "num = 15\n",
    "#if given number is greater than 1.\n",
    "if num > 1 :\n",
    "    #iterate from 2 to n//2\n",
    "    for i in range (2,(num//2)+1):\n",
    "        #if num is divisible by any number between \n",
    "        #2 and n/2 , it is not prime\n",
    "        if (num % i) == 0 :\n",
    "            print(num,\"is not a prime number\")\n",
    "            break\n",
    "    else :\n",
    "        print(num, \"is a prime number\")\n",
    "else : \n",
    "    print(num,\"is not a prime number\")"
   ]
  },
  {
   "cell_type": "code",
   "execution_count": null,
   "id": "daba8b3d",
   "metadata": {},
   "outputs": [],
   "source": [
    "# Exercise 2: Product of Random Numbers"
   ]
  },
  {
   "cell_type": "code",
   "execution_count": 3,
   "id": "9ea071ea",
   "metadata": {},
   "outputs": [
    {
     "name": "stdout",
     "output_type": "stream",
     "text": [
      "What is the product of 332 and 90?29980\n",
      "Incorrect. The product is actually 29880.\n"
     ]
    }
   ],
   "source": [
    "import random\n",
    "\n",
    "# Generate random numbers \n",
    "num1 = random.randint(200,500)\n",
    "num2 = random.randint(1,500)\n",
    "\n",
    "# Calculate the product\n",
    "\n",
    "product = num1*num2\n",
    "\n",
    "#Ask the user for the product\n",
    "user_answer = int(input(f\"What is the product of {num1} and {num2}?\"))\n",
    "\n",
    "#check the answer\n",
    "if user_answer == product:\n",
    "    print(\"You got it right!\")\n",
    "else :\n",
    "    print(f\"Incorrect. The product is actually {product}.\")"
   ]
  },
  {
   "cell_type": "code",
   "execution_count": null,
   "id": "f342c2b6",
   "metadata": {},
   "outputs": [],
   "source": [
    "# Exercise 3: Squares of Even Numbers"
   ]
  },
  {
   "cell_type": "code",
   "execution_count": 4,
   "id": "e0d61fbd",
   "metadata": {},
   "outputs": [
    {
     "name": "stdout",
     "output_type": "stream",
     "text": [
      "Square of 100 (even): 10000\n",
      "Square of 102 (even): 10404\n",
      "Square of 104 (even): 10816\n",
      "Square of 106 (even): 11236\n",
      "Square of 108 (even): 11664\n",
      "Square of 110 (even): 12100\n",
      "Square of 112 (even): 12544\n",
      "Square of 114 (even): 12996\n",
      "Square of 116 (even): 13456\n",
      "Square of 118 (even): 13924\n",
      "Square of 120 (even): 14400\n",
      "Square of 122 (even): 14884\n",
      "Square of 124 (even): 15376\n",
      "Square of 126 (even): 15876\n",
      "Square of 128 (even): 16384\n",
      "Square of 130 (even): 16900\n",
      "Square of 132 (even): 17424\n",
      "Square of 134 (even): 17956\n",
      "Square of 136 (even): 18496\n",
      "Square of 138 (even): 19044\n",
      "Square of 140 (even): 19600\n",
      "Square of 142 (even): 20164\n",
      "Square of 144 (even): 20736\n",
      "Square of 146 (even): 21316\n",
      "Square of 148 (even): 21904\n",
      "Square of 150 (even): 22500\n",
      "Square of 152 (even): 23104\n",
      "Square of 154 (even): 23716\n",
      "Square of 156 (even): 24336\n",
      "Square of 158 (even): 24964\n",
      "Square of 160 (even): 25600\n",
      "Square of 162 (even): 26244\n",
      "Square of 164 (even): 26896\n",
      "Square of 166 (even): 27556\n",
      "Square of 168 (even): 28224\n",
      "Square of 170 (even): 28900\n",
      "Square of 172 (even): 29584\n",
      "Square of 174 (even): 30276\n",
      "Square of 176 (even): 30976\n",
      "Square of 178 (even): 31684\n",
      "Square of 180 (even): 32400\n",
      "Square of 182 (even): 33124\n",
      "Square of 184 (even): 33856\n",
      "Square of 186 (even): 34596\n",
      "Square of 188 (even): 35344\n",
      "Square of 190 (even): 36100\n",
      "Square of 192 (even): 36864\n",
      "Square of 194 (even): 37636\n",
      "Square of 196 (even): 38416\n",
      "Square of 198 (even): 39204\n",
      "Square of 200 (even): 40000\n"
     ]
    }
   ],
   "source": [
    "#loop through numbers from 100 to 200\n",
    "for num in range (100,201):\n",
    "    \n",
    "    #check if even using modulo operator\n",
    "    if num%2 == 0 :\n",
    "        #calculate and print the square \n",
    "        square = num*num\n",
    "        print(f\"Square of {num} (even): {square}\")"
   ]
  },
  {
   "cell_type": "code",
   "execution_count": null,
   "id": "9cfca292",
   "metadata": {},
   "outputs": [],
   "source": [
    "# Exercise 4: Word counter"
   ]
  },
  {
   "cell_type": "code",
   "execution_count": 5,
   "id": "8fdc9176",
   "metadata": {},
   "outputs": [
    {
     "name": "stdout",
     "output_type": "stream",
     "text": [
      "'this': 2\n",
      "'is': 1\n",
      "'a': 1\n",
      "'sample': 1\n",
      "'text': 2\n",
      "'will': 1\n",
      "'be': 1\n",
      "'used': 1\n",
      "'to': 1\n",
      "'demonstrate': 1\n",
      "'the': 1\n",
      "'word': 1\n",
      "'counter': 1\n"
     ]
    }
   ],
   "source": [
    "\n",
    "def count_words(text):\n",
    "  \"\"\"Counts the occurrences of each word in the given text.\n",
    "\n",
    "  Args:\n",
    "      text: The text string to analyze.\n",
    "\n",
    "  Returns:\n",
    "      A dictionary mapping each word (lowercase) to its count in the text.\n",
    "  \"\"\"\n",
    "\n",
    "  # Convert text to lowercase and split into words\n",
    "  words = text.lower().split()\n",
    "\n",
    "  # Create a dictionary to store word counts\n",
    "  word_counts = {}\n",
    "  for word in words:\n",
    "    # Remove punctuation from the end of the word (optional)\n",
    "    word = word.rstrip(\".,!?\")\n",
    "\n",
    "    # Check if word exists in dictionary, if not, initialize count to 0\n",
    "    if word not in word_counts:\n",
    "      word_counts[word] = 0\n",
    "\n",
    "    # Increment the count for the current word\n",
    "    word_counts[word] += 1\n",
    "\n",
    "  return word_counts\n",
    "\n",
    "# Example usage\n",
    "input_text = \"This is a sample text. This text will be used to demonstrate the word counter.\"\n",
    "word_counts = count_words(input_text)\n",
    "\n",
    "# Print word counts\n",
    "for word, count in word_counts.items():\n",
    "  print(f\"'{word}': {count}\")"
   ]
  },
  {
   "cell_type": "code",
   "execution_count": null,
   "id": "ad249db7",
   "metadata": {},
   "outputs": [],
   "source": [
    "#Exercise 5: Check for Palindrome"
   ]
  },
  {
   "cell_type": "code",
   "execution_count": 7,
   "id": "d3738eef",
   "metadata": {},
   "outputs": [
    {
     "name": "stdout",
     "output_type": "stream",
     "text": [
      "'Race car' is a palindrome: True\n"
     ]
    }
   ],
   "source": [
    "\n",
    "def is_palindrome(text):\n",
    "  \"\"\"Checks if the given text is a palindrome (reads the same backward and forward).\n",
    "\n",
    "  Args:\n",
    "      text: The text string to check.\n",
    "\n",
    "  Returns:\n",
    "      True if the text is a palindrome, False otherwise.\n",
    "  \"\"\"\n",
    "\n",
    "  # Convert the text to lowercase and remove non-alphanumeric characters\n",
    "  sanitized_text = ''.join(char for char in text.lower() if char.isalnum())\n",
    "\n",
    "  # Check if the sanitized text is the same reversed\n",
    "  return sanitized_text == sanitized_text[::-1]\n",
    "\n",
    "# Example usage\n",
    "text1 = \"Race car\"  # Palindrome\n",
    "\n",
    "print(f\"'{text1}' is a palindrome: {is_palindrome(text1)}\")"
   ]
  },
  {
   "cell_type": "code",
   "execution_count": null,
   "id": "6631715a",
   "metadata": {},
   "outputs": [],
   "source": []
  }
 ],
 "metadata": {
  "kernelspec": {
   "display_name": "Python 3 (ipykernel)",
   "language": "python",
   "name": "python3"
  },
  "language_info": {
   "codemirror_mode": {
    "name": "ipython",
    "version": 3
   },
   "file_extension": ".py",
   "mimetype": "text/x-python",
   "name": "python",
   "nbconvert_exporter": "python",
   "pygments_lexer": "ipython3",
   "version": "3.11.5"
  }
 },
 "nbformat": 4,
 "nbformat_minor": 5
}
