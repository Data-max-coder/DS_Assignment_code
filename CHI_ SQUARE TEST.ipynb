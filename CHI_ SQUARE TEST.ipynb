{
 "cells": [
  {
   "cell_type": "code",
   "execution_count": null,
   "id": "1ece0a9f",
   "metadata": {},
   "outputs": [],
   "source": [
    "## CHI-SQUARE TEST  ##"
   ]
  },
  {
   "cell_type": "code",
   "execution_count": 11,
   "id": "59e7a6f1",
   "metadata": {},
   "outputs": [
    {
     "name": "stdout",
     "output_type": "stream",
     "text": [
      "Null Hypothesis: There is no significant association between the type of smart home device purchased and the customer satisfaction level.\n",
      "Alternative Hypothesis: There is a significant association between the type of smart home device purchased and the customer satisfaction level.\n",
      "Chi-Square Statistic: 5.638227513227513\n",
      "Critical Value (alpha= 0.05 ): 9.487729036781154\n",
      "Degrees of Freedom: 4\n",
      "Expected Counts:\n",
      " [[ 48.  72.  60.  32.  28.]\n",
      " [ 72. 108.  90.  48.  42.]]\n",
      "Decision: Fail to Reject Null Hypothesis\n",
      "\n",
      "Conclusion:\n",
      "Based on the chi-square test, we fail to reject the null hypothesis. There is not enough evidence to conclude a significant association between device type and satisfaction level at the 5% significance level.\n"
     ]
    }
   ],
   "source": [
    "import numpy as np\n",
    "from scipy.stats import chi2_contingency, chi2\n",
    "\n",
    "# Contingency table data\n",
    "observed_data = np.array([\n",
    "    [50, 80, 60, 30, 20],\n",
    "    [70, 100, 90, 50, 50]\n",
    "])\n",
    "\n",
    "# Step 1: Hypotheses\n",
    "null_hypothesis = \"There is no significant association between the type of smart home device purchased and the customer satisfaction level.\"\n",
    "alternative_hypothesis = \"There is a significant association between the type of smart home device purchased and the customer satisfaction level.\"\n",
    "\n",
    "# Step 2: Chi-Square Statistic\n",
    "chi2_statistic, pval, degrees_of_freedom, expected_counts = chi2_contingency(observed_data)\n",
    "\n",
    "# Step 3: Critical Value (alpha = 0.05)\n",
    "alpha = 0.05\n",
    "critical_value = chi2.ppf(1 - alpha, degrees_of_freedom)\n",
    "\n",
    "# Print Results\n",
    "print(\"Null Hypothesis:\", null_hypothesis)\n",
    "print(\"Alternative Hypothesis:\", alternative_hypothesis)\n",
    "print(\"Chi-Square Statistic:\", chi2_statistic)\n",
    "print(\"Critical Value (alpha=\", alpha, \"):\", critical_value)\n",
    "print(\"Degrees of Freedom:\", degrees_of_freedom)\n",
    "print(\"Expected Counts:\\n\", expected_counts)\n",
    "\n",
    "# Step 4: Decision\n",
    "if chi2_statistic > critical_value:\n",
    "  print(\"Decision: Reject Null Hypothesis\")\n",
    "else:\n",
    "  print(\"Decision: Fail to Reject Null Hypothesis\")\n",
    "\n",
    "# Step 5: Conclusion\n",
    "print(\"\\nConclusion:\")\n",
    "if chi2_statistic > critical_value:\n",
    "  print(\"There is a significant association between the type of smart home device purchased and the customer satisfaction level. We reject the null hypothesis.\")\n",
    "else:\n",
    "  print(\"Based on the chi-square test, we fail to reject the null hypothesis. There is not enough evidence to conclude a significant association between device type and satisfaction level at the 5% significance level.\")"
   ]
  },
  {
   "cell_type": "code",
   "execution_count": null,
   "id": "f41d8174",
   "metadata": {},
   "outputs": [],
   "source": []
  }
 ],
 "metadata": {
  "kernelspec": {
   "display_name": "Python 3 (ipykernel)",
   "language": "python",
   "name": "python3"
  },
  "language_info": {
   "codemirror_mode": {
    "name": "ipython",
    "version": 3
   },
   "file_extension": ".py",
   "mimetype": "text/x-python",
   "name": "python",
   "nbconvert_exporter": "python",
   "pygments_lexer": "ipython3",
   "version": "3.11.5"
  }
 },
 "nbformat": 4,
 "nbformat_minor": 5
}
