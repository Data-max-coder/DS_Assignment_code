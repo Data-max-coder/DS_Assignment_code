{
 "cells": [
  {
   "cell_type": "code",
   "execution_count": 2,
   "id": "b90aa8a3",
   "metadata": {},
   "outputs": [],
   "source": [
    "##Data\n",
    "##A total of 15 print-heads were randomly selected and tested until failure. The durability of each print-head (in millions of characters) was recorded as follows:\n",
    "##1.13, 1.55, 1.43, 0.92, 1.25, 1.36, 1.32, 0.85, 1.07, 1.48, 1.20, 1.33, 1.18, 1.22, 1.29\n"
   ]
  },
  {
   "cell_type": "code",
   "execution_count": 3,
   "id": "e371e9f9",
   "metadata": {},
   "outputs": [],
   "source": [
    "## a. Build 99% Confidence Interval Using Sample Standard Deviation"
   ]
  },
  {
   "cell_type": "code",
   "execution_count": 10,
   "id": "7d9815d8",
   "metadata": {},
   "outputs": [],
   "source": [
    "import numpy as np\n",
    "import pandas as pd\n",
    "import statistics as stat\n",
    "from scipy import stats"
   ]
  },
  {
   "cell_type": "code",
   "execution_count": 11,
   "id": "e079ce75",
   "metadata": {},
   "outputs": [],
   "source": [
    "data = [1.13, 1.55, 1.43, 0.92, 1.25, 1.36, 1.32, 0.85, 1.07, 1.48, 1.20, 1.33, 1.18, 1.22, 1.29]"
   ]
  },
  {
   "cell_type": "code",
   "execution_count": 12,
   "id": "a1bdde5d",
   "metadata": {},
   "outputs": [
    {
     "data": {
      "text/plain": [
       "1.2386666666666666"
      ]
     },
     "execution_count": 12,
     "metadata": {},
     "output_type": "execute_result"
    }
   ],
   "source": [
    "#step1 : finding the mean of the data.\n",
    "x = stat.mean(data)\n",
    "x"
   ]
  },
  {
   "cell_type": "code",
   "execution_count": 13,
   "id": "b57fa99c",
   "metadata": {},
   "outputs": [
    {
     "data": {
      "text/plain": [
       "0.19316412956959933"
      ]
     },
     "execution_count": 13,
     "metadata": {},
     "output_type": "execute_result"
    }
   ],
   "source": [
    "#step2 Find the t-value: Since we don't know the population standard deviation (σ),\n",
    "#we use the t-distribution instead of the normal distribution.  \n",
    "#We need to determine the degrees of freedom (df) which is n-1 (number of samples minus 1). \n",
    "#With 15 samples, df = 14.\n",
    "df = 14\n",
    "stat.stdev(data)"
   ]
  },
  {
   "cell_type": "code",
   "execution_count": 14,
   "id": "1c68cfe0",
   "metadata": {},
   "outputs": [
    {
     "data": {
      "text/plain": [
       "(1.090197338451367, 1.3871359948819662)"
      ]
     },
     "execution_count": 14,
     "metadata": {},
     "output_type": "execute_result"
    }
   ],
   "source": [
    "#Calculating confidence Interval \n",
    "stats.t.interval(0.99,14,1.2386666666666666,0.19316412956959933/np.sqrt(15))"
   ]
  },
  {
   "cell_type": "code",
   "execution_count": null,
   "id": "d34eacc2",
   "metadata": {
    "collapsed": true
   },
   "outputs": [],
   "source": [
    "# Here I have used direct function from scipy library to calculate the 99% confidence Interval for print heads printing character \n",
    "# before failure. T-distribution is generally used when population standard deviation is unknown or in scenarios where sample size is quite low.\n",
    "#It is suggested to keep the sample size atleast 30 to get the results accurate.Values used in calculating the 99% confidence interval in the above codes are\n",
    "# 1.conifendce interval 2.degrees of freedom 3. mean value of the sample 4. standard deviation of the sample 5. no. of sample\n"
   ]
  },
  {
   "cell_type": "code",
   "execution_count": null,
   "id": "b199a8a4",
   "metadata": {},
   "outputs": [],
   "source": [
    "## b.Build 99% Confidence Interval Using Known Population Standard Deviation\n",
    "## population standard deviation is 0.2 million characters"
   ]
  },
  {
   "cell_type": "code",
   "execution_count": null,
   "id": "e9b6bf67",
   "metadata": {},
   "outputs": [],
   "source": [
    "#from the above calculation we have following informations.\n",
    "# 1. no. of sample = 15 \n",
    "# 2. confidence interval = 99 %\n",
    "# 3. mean value of the sample = 1.2386666666666666\n",
    "# 4. Population standard deviation = 0.2\n",
    "#using above value calculating confidence interval"
   ]
  },
  {
   "cell_type": "code",
   "execution_count": 20,
   "id": "425f68db",
   "metadata": {},
   "outputs": [
    {
     "data": {
      "text/plain": [
       "(1.1056514133957607, 1.3716819199375725)"
      ]
     },
     "execution_count": 20,
     "metadata": {},
     "output_type": "execute_result"
    }
   ],
   "source": [
    "stats.norm.interval(0.99,1.2386666666666666,0.2/np.sqrt(15))"
   ]
  },
  {
   "cell_type": "code",
   "execution_count": null,
   "id": "fb4dad43",
   "metadata": {},
   "outputs": [],
   "source": [
    "#Upon analyzing both the results we find that the t-distribution presents good results even when the population standard deviation is missing."
   ]
  }
 ],
 "metadata": {
  "kernelspec": {
   "display_name": "Python 3 (ipykernel)",
   "language": "python",
   "name": "python3"
  },
  "language_info": {
   "codemirror_mode": {
    "name": "ipython",
    "version": 3
   },
   "file_extension": ".py",
   "mimetype": "text/x-python",
   "name": "python",
   "nbconvert_exporter": "python",
   "pygments_lexer": "ipython3",
   "version": "3.11.5"
  }
 },
 "nbformat": 4,
 "nbformat_minor": 5
}
